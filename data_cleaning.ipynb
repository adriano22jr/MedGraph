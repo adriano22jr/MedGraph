{
 "cells": [
  {
   "cell_type": "code",
   "execution_count": 7,
   "metadata": {},
   "outputs": [],
   "source": [
    "import pandas as pd\n",
    "from pymongo import MongoClient"
   ]
  },
  {
   "cell_type": "code",
   "execution_count": 58,
   "metadata": {},
   "outputs": [],
   "source": [
    "# Connect to mongodb and create a new database\n",
    "client = MongoClient(\"mongodb://localhost:27017/\")\n",
    "database = client[\"MedGraph\"]\n",
    "\n",
    "# Base pubmed url: https://pubmed.ncbi.nlm.nih.gov/ + paper_id"
   ]
  },
  {
   "cell_type": "code",
   "execution_count": 18,
   "metadata": {},
   "outputs": [],
   "source": [
    "def _connect_mongo():\n",
    "    return MongoClient(\"mongodb://localhost:27017/\")\n",
    "\n",
    "def read_mongo(db, collection):\n",
    "    client = _connect_mongo()\n",
    "    database = client[db]\n",
    "    col = database[collection]\n",
    "\n",
    "    df =  pd.DataFrame(list(col.find({})))\n",
    "    return df\n",
    "\n",
    "if __name__ == '__main__':\n",
    "    df = read_mongo('MedGraph', 'Dataset2000Entries')\n",
    "    df.to_csv('../data/dataset2000entries.csv', index=False)"
   ]
  },
  {
   "cell_type": "code",
   "execution_count": 64,
   "metadata": {},
   "outputs": [],
   "source": [
    "dataframe = pd.read_csv('../data/dataset2000entries.csv')\n",
    "\n",
    "# Upload Authors list as mongodb collection\n",
    "dataframe[\"authors\"] = dataframe[\"authors\"].apply(lambda x: x.split(\", \"))\n",
    "collection = database[\"Authors\"]\n",
    "authors_set = set()\n",
    "for authors in dataframe[\"authors\"]:\n",
    "    for author in authors:\n",
    "        authors_set.add(author)\n",
    "for author in authors_set:\n",
    "    collection.insert_one({\"author\": author})\n",
    "\n",
    "\n",
    "# Upload MeshTerms list as mongodb collection\n",
    "dataframe[\"mesh_terms\"] = dataframe[\"mesh_terms\"].apply(lambda x: x.split(\"; \"))\n",
    "collection = database[\"MeshTerms\"]\n",
    "for terms in dataframe[\"mesh_terms\"]:\n",
    "    for term in terms:\n",
    "        _id = term.split(\":\")[0]\n",
    "        try:\n",
    "            collection.insert_one({\"_id\": _id, \"term_name\" : term.split(\":\")[1]})\n",
    "        except: continue\n",
    "\n",
    "\n",
    "# Upload Areas list as mongodb collection\n",
    "dataframe[\"Areas\"] = dataframe[\"Areas\"].apply(lambda x: x.split(\"; \"))\n",
    "collection = database[\"Areas\"]\n",
    "areas_set = set()\n",
    "for areas in dataframe[\"Areas\"]:\n",
    "    for area in areas:\n",
    "        areas_set.add(area)\n",
    "        \n",
    "for area in areas_set:\n",
    "    collection.insert_one({\"area\": area})\n",
    "\n",
    "\n",
    "# Upload Categories list as mongodb collection\n",
    "dataframe[\"Categories\"] = dataframe[\"Categories\"].apply(lambda x: x.split(\"; \"))\n",
    "collection = database[\"Categories\"]\n",
    "categories_set = set()\n",
    "for categories in dataframe[\"Categories\"]:\n",
    "    for category in categories:        \n",
    "        categories_set.add(category[:-5])\n",
    "        \n",
    "for category in categories_set:\n",
    "    collection.insert_one({\"category\": category})\n",
    "\n",
    "\n",
    "# dataframe[\"keywords\"] = dataframe[\"keywords\"].apply(lambda x: x.split(\"; \"))"
   ]
  },
  {
   "cell_type": "code",
   "execution_count": 86,
   "metadata": {},
   "outputs": [],
   "source": [
    "# link authors id to paper author list\n",
    "dataset2000_collection = database[\"Dataset2000Entries\"]\n",
    "\n",
    "authors_collection = database[\"Authors\"]\n",
    "for document in dataset2000_collection.find({}):\n",
    "    document_id = document[\"_id\"]\n",
    "    authors = document[\"authors\"].split(\", \")\n",
    "    authors_list = []\n",
    "    for item in authors:\n",
    "        cursor = authors_collection.find({\"author\" : item})\n",
    "        key = list(cursor)[0][\"_id\"]\n",
    "        authors_list.append(key)\n",
    "    dataset2000_collection.update_one({\"_id\": document_id}, {\"$set\": { \"authors\": authors_list}})"
   ]
  },
  {
   "cell_type": "code",
   "execution_count": 87,
   "metadata": {},
   "outputs": [],
   "source": [
    "# link mesh terms id to paper mesh terms list\n",
    "dataset2000_collection = database[\"Dataset2000Entries\"]\n",
    "\n",
    "for document in dataset2000_collection.find({}):\n",
    "    document_id = document[\"_id\"]\n",
    "    mesh_terms = document[\"mesh_terms\"].split(\"; \")\n",
    "    terms_list = []\n",
    "    for term in mesh_terms:\n",
    "        term_key = term.split(\":\")[0]\n",
    "        terms_list.append(term_key)\n",
    "    dataset2000_collection.update_one({\"_id\": document_id}, {\"$set\": { \"mesh_terms\": terms_list}})"
   ]
  },
  {
   "cell_type": "code",
   "execution_count": 88,
   "metadata": {},
   "outputs": [],
   "source": [
    "# link areas id to paper areas list\n",
    "dataset2000_collection = database[\"Dataset2000Entries\"]\n",
    "\n",
    "areas_collection = database[\"Areas\"]\n",
    "for document in dataset2000_collection.find({}):\n",
    "    document_id = document[\"_id\"]\n",
    "    areas = document[\"Areas\"].split(\"; \")\n",
    "    areas_list = []\n",
    "    for area in areas:\n",
    "        cursor = areas_collection.find({\"area\" : area})\n",
    "        key = list(cursor)[0][\"_id\"]\n",
    "        areas_list.append(key)\n",
    "    dataset2000_collection.update_one({\"_id\": document_id}, {\"$set\": { \"Areas\": areas_list}})"
   ]
  },
  {
   "cell_type": "code",
   "execution_count": 90,
   "metadata": {},
   "outputs": [],
   "source": [
    "# link categories id to paper categories list\n",
    "dataset2000_collection = database[\"Dataset2000Entries\"]\n",
    "\n",
    "categories_collection = database[\"Categories\"]\n",
    "for document in dataset2000_collection.find({}):\n",
    "    document_id = document[\"_id\"]\n",
    "    categories = document[\"Categories\"].split(\"; \")\n",
    "    categories_list = []\n",
    "    for category in categories:    \n",
    "        cursor = categories_collection.find({\"category\" : category[:-5]})\n",
    "        key = list(cursor)[0][\"_id\"]\n",
    "        categories_list.append(key)\n",
    "    dataset2000_collection.update_one({\"_id\": document_id}, {\"$set\": { \"Categories\": categories_list}})"
   ]
  }
 ],
 "metadata": {
  "kernelspec": {
   "display_name": "medgraph",
   "language": "python",
   "name": "python3"
  },
  "language_info": {
   "codemirror_mode": {
    "name": "ipython",
    "version": 3
   },
   "file_extension": ".py",
   "mimetype": "text/x-python",
   "name": "python",
   "nbconvert_exporter": "python",
   "pygments_lexer": "ipython3",
   "version": "3.11.7"
  }
 },
 "nbformat": 4,
 "nbformat_minor": 2
}
