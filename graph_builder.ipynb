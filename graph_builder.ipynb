{
 "cells": [
  {
   "cell_type": "code",
   "execution_count": 1,
   "metadata": {},
   "outputs": [],
   "source": [
    "from pymongo import MongoClient\n",
    "\n",
    "# Connect to mongodb and create a new database\n",
    "client = MongoClient(\"mongodb://localhost:27017/\")\n",
    "database = client[\"MedGraph\"]\n",
    "\n",
    "# Base pubmed url: https://pubmed.ncbi.nlm.nih.gov/ + paper_id"
   ]
  },
  {
   "cell_type": "code",
   "execution_count": 5,
   "metadata": {},
   "outputs": [],
   "source": [
    "import pymongo, networkx\n",
    "\n",
    "def build_graph_from_meshterms(collection: pymongo.collection.Collection):\n",
    "    graph = networkx.Graph()\n",
    "    nodes_list = []\n",
    "    edges_list = []\n",
    "\n",
    "    for document in collection.find():\n",
    "        current_pmid = document[\"_id\"]\n",
    "        graph.add_node(current_pmid)\n",
    "        \n",
    "        for document2 in collection.find():\n",
    "            count = 0\n",
    "            if current_pmid != document2[\"_id\"]:\n",
    "                for key in document[\"mesh_terms\"]:\n",
    "                    if key in document2[\"mesh_terms\"]: count += 1\n",
    "            \n",
    "            if count > 0:\n",
    "                graph.add_edge(current_pmid, document2[\"_id\"], weight = count)    \n",
    "\n",
    "    return graph"
   ]
  },
  {
   "cell_type": "code",
   "execution_count": 17,
   "metadata": {},
   "outputs": [],
   "source": [
    "import networkx, json\n",
    "\n",
    "def build_graph_from_labels():\n",
    "    with open(\"entity_documents.json\", \"r\") as f:\n",
    "        data = json.load(f)\n",
    "\n",
    "        pmid_to_labels = {}\n",
    "        for pmid, values in data.items():\n",
    "            pmid_to_labels[pmid] = set()\n",
    "            \n",
    "            for label in values.keys():\n",
    "                entity = label.split(\", \")[0]\n",
    "                pmid_to_labels[pmid].add(entity)\n",
    "                \n",
    "    graph = networkx.Graph()\n",
    "    graph.add_nodes_from(pmid_to_labels.keys())\n",
    "    \n",
    "    for pmid1 in pmid_to_labels:\n",
    "        for pmid2 in pmid_to_labels:\n",
    "            if pmid1 < pmid2:\n",
    "                common_labels = pmid_to_labels[pmid1].intersection(pmid_to_labels[pmid2])        \n",
    "                for item in common_labels:\n",
    "                    graph.add_edge(pmid1, pmid2, weight = item)\n",
    "    \n",
    "    return graph     "
   ]
  },
  {
   "cell_type": "code",
   "execution_count": 6,
   "metadata": {},
   "outputs": [],
   "source": [
    "# Usage example for creating a graph from mongodb table\n",
    "collection = database[\"Dataset2000Entries\"]\n",
    "gx = build_graph_from_meshterms(collection)"
   ]
  },
  {
   "cell_type": "code",
   "execution_count": null,
   "metadata": {},
   "outputs": [],
   "source": [
    "import json\n",
    "\n",
    "with open(\"graph-webapp/entity_documents.json\" , \"r\") as file:\n",
    "    data = json.load(file)\n",
    "    \n",
    "paper_list = list(data.keys())\n",
    "ner_words = set()\n",
    "\n",
    "for paper in paper_list:\n",
    "    ner_words.update(list(data[paper].keys()))\n",
    "    \n",
    "nodes = []\n",
    "for entity in ner_words:\n",
    "    papers = []\n",
    "    unpack = entity.split(\", \")\n",
    "    \n",
    "    for paper in paper_list:\n",
    "        if entity in data[paper]:\n",
    "            papers.append(paper)\n",
    "    node = {\"id\": entity, \"name\": unpack[0], \"category\": unpack[1], \"papers\": papers}\n",
    "    nodes.append(node)\n",
    "        \n",
    "edges = []\n",
    "for entity1 in nodes:\n",
    "    for entity2 in nodes:\n",
    "        if entity1[\"id\"] != entity2[\"id\"]:\n",
    "            papers1 = set(entity1[\"papers\"])\n",
    "            papers2 = set(entity2[\"papers\"])\n",
    "            \n",
    "            intersection = papers1 & papers2\n",
    "            if len(intersection) > 0:\n",
    "                edge = {\"source\": entity1[\"id\"], \"target\": entity2[\"id\"], \"weight\": len(intersection), \"common_papers\": list(intersection)}\n",
    "                edges.append(edge)\n",
    "        \n",
    "entities_graph = {}    \n",
    "entities_graph[\"nodes\"] = nodes\n",
    "entities_graph[\"links\"] = edges\n",
    "\n",
    "with open(\"graph-webapp/entities_graph.json\" , \"w\") as file:\n",
    "    json.dump(entities_graph, file, indent = 4)"
   ]
  }
 ],
 "metadata": {
  "kernelspec": {
   "display_name": "med-graph",
   "language": "python",
   "name": "python3"
  },
  "language_info": {
   "codemirror_mode": {
    "name": "ipython",
    "version": 3
   },
   "file_extension": ".py",
   "mimetype": "text/x-python",
   "name": "python",
   "nbconvert_exporter": "python",
   "pygments_lexer": "ipython3",
   "version": "3.11.8"
  }
 },
 "nbformat": 4,
 "nbformat_minor": 2
}
