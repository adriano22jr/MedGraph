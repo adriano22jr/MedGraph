{
 "cells": [
  {
   "cell_type": "markdown",
   "metadata": {},
   "source": [
    "# Graph analysis with networkx functions"
   ]
  },
  {
   "cell_type": "code",
   "execution_count": 1,
   "metadata": {},
   "outputs": [],
   "source": [
    "import json, networkx, pandas"
   ]
  },
  {
   "cell_type": "code",
   "execution_count": 2,
   "metadata": {},
   "outputs": [],
   "source": [
    "# Entities dataset load\n",
    "with open(\"../graph/entities_graph.json\", \"r\") as file:\n",
    "    entities_json = json.load(file)\n",
    "    \n",
    "# Papers dataset load\n",
    "with open(\"../graph/even_more_updated_output_file.json\", \"r\") as file:\n",
    "    papers_json = json.load(file)\n",
    "    \n",
    "    \n",
    "# Entities-graph conversion to networkx object\n",
    "# Since in the json file we have a directed graph, we need to convert it to an undirected graph\n",
    "# We then go to 281734 edges to 140867. Nodes are the same.\n",
    "entities_nxgraph = networkx.Graph()\n",
    "\n",
    "for node in entities_json[\"nodes\"]:\n",
    "    entities_nxgraph.add_node(node[\"id\"], name = node[\"name\"], category = node[\"category\"])\n",
    "    \n",
    "for edge in entities_json[\"links\"]:\n",
    "    entities_nxgraph.add_edge(edge[\"source\"], edge[\"target\"], weight = edge[\"weight\"], common_papers = edge[\"common_papers\"])\n",
    "    \n",
    "\n",
    "# Papers-graph conversion to networkx object\n",
    "# The same rules apply to this graph. We went to 455672 edges to 194991 edges since edges with same source/target\n",
    "# but different entities are cut-out. Nodes are the same.\n",
    "papers_nxgraph = networkx.Graph()\n",
    "for node in papers_json[\"nodes\"]:\n",
    "    papers_nxgraph.add_node(node[\"id\"], terms = node[\"terms\"])\n",
    "    \n",
    "for edge in papers_json[\"links\"]:\n",
    "    papers_nxgraph.add_edge(edge[\"source\"], edge[\"target\"])"
   ]
  },
  {
   "cell_type": "code",
   "execution_count": null,
   "metadata": {},
   "outputs": [],
   "source": [
    "print(f\"Entities-graph:\\n- nodes: {len(entities_nxgraph.nodes)}\\n- edges: {len(entities_nxgraph.edges)}\\n\")\n",
    "print(f\"Papers-graph:\\n- nodes: {len(papers_nxgraph.nodes)}\\n- edges: {len(papers_nxgraph.edges)}\")"
   ]
  },
  {
   "cell_type": "markdown",
   "metadata": {},
   "source": [
    "## Connected Components analysis"
   ]
  },
  {
   "cell_type": "code",
   "execution_count": 28,
   "metadata": {},
   "outputs": [
    {
     "name": "stdout",
     "output_type": "stream",
     "text": [
      "Entities-graph:\n",
      "- is_connected: False\n",
      "- connected components: 43\n",
      "- size of connected components: [1, 1, 2, 2, 2, 2, 2, 2, 2, 3, 3, 3, 3, 4, 4, 4, 4, 4, 5, 5, 5, 5, 5, 5, 6, 6, 6, 7, 7, 8, 8, 8, 8, 9, 9, 9, 10, 10, 11, 11, 13, 19, 14082]\n",
      "\n",
      "Papers-graph:\n",
      "- is_connected: False\n",
      "- connected components: 41\n",
      "- size of connected components: [1, 1, 1, 1, 1, 1, 1, 1, 1, 1, 1, 1, 1, 1, 1, 1, 1, 1, 1, 1, 1, 1, 1, 1, 1, 1, 1, 1, 1, 1, 1, 1, 1, 1, 1, 1, 1, 1, 1, 1, 1960]\n"
     ]
    }
   ],
   "source": [
    "# Connectivity analysis with connected components\n",
    "entities_is_connected = networkx.is_connected(entities_nxgraph)\n",
    "entities_n_connected_components = networkx.number_connected_components(entities_nxgraph)\n",
    "entities_size_connected_components = [len(component) for component in sorted(networkx.connected_components(entities_nxgraph), key = len, reverse = False)]\n",
    "\n",
    "papers_is_connected = networkx.is_connected(papers_nxgraph)\n",
    "papers_n_connected_components = networkx.number_connected_components(papers_nxgraph)\n",
    "papers_size_connected_components = [len(component) for component in sorted(networkx.connected_components(papers_nxgraph), key = len, reverse = False)]\n",
    "\n",
    "\n",
    "print(f\"Entities-graph:\\n- is_connected: {entities_is_connected}\\n- connected components: {entities_n_connected_components}\\n- size of connected components: {entities_size_connected_components}\\n\")\n",
    "print(f\"Papers-graph:\\n- is_connected: {papers_is_connected}\\n- connected components: {papers_n_connected_components}\\n- size of connected components: {papers_size_connected_components}\")"
   ]
  },
  {
   "cell_type": "markdown",
   "metadata": {},
   "source": [
    "## Bridges analysis"
   ]
  },
  {
   "cell_type": "code",
   "execution_count": 26,
   "metadata": {},
   "outputs": [
    {
     "name": "stdout",
     "output_type": "stream",
     "text": [
      "Entities-graph:\n",
      "- has_bridges: True\n",
      "- number of bridges: 8\n",
      "- bridges: [('PE2, peptide', 'anti-bacterial activity, activity'), ('L-melittin, peptide', 'melittin, peptide'), ('Rotahaler, device', '60 L/min, volume'), ('LM7-2, peptide', 'α-helix, protein'), ('single mutations, mutation', 'unique activity, activity'), ('wzi29, mutation', 'wzi154, mutation'), ('Sd5, protein', 'Sugar cane, plant'), ('nanofibers, device', 'Nanofibers, device')]\n"
     ]
    }
   ],
   "source": [
    "# entities-graph bridge analysis\n",
    "entities_has_bridges = networkx.has_bridges(entities_nxgraph)\n",
    "entities_bridges = list(networkx.bridges(entities_nxgraph))\n",
    "\n",
    "print(f\"Entities-graph:\\n- has_bridges: {entities_has_bridges}\\n- number of bridges: {len(entities_bridges)}\\n- bridges: {entities_bridges}\")"
   ]
  },
  {
   "cell_type": "code",
   "execution_count": 27,
   "metadata": {},
   "outputs": [
    {
     "name": "stdout",
     "output_type": "stream",
     "text": [
      "Papers-graph:\n",
      "- has_bridges: True\n",
      "- number of bridges: 25\n",
      "- bridges: [('26547698', '27129587'), ('26940096', '27358498'), ('26956134', '36251170'), ('27036372', '29196621'), ('27187357', '35112864'), ('27318963', '27624303'), ('27349900', '34388167'), ('28429578', '29905453'), ('29440679', '30061724'), ('29532754', '31181304'), ('29559676', '31336833'), ('29969762', '32894831'), ('30027848', '31054799'), ('30424807', '34033877'), ('30865424', '30917919'), ('31257848', '34171196'), ('31317613', '32499582'), ('33095969', '35987005'), ('33225796', '33899825'), ('33387360', '34064456'), ('33964686', '34058872'), ('34338839', '34918728'), ('34530072', '34952285'), ('35231605', '35806446'), ('35307176', '35444957')]\n"
     ]
    }
   ],
   "source": [
    "# papers-graph bridge analysis\n",
    "papers_has_bridges = networkx.has_bridges(papers_nxgraph)\n",
    "papers_bridges = list(networkx.bridges(papers_nxgraph))\n",
    "\n",
    "print(f\"Papers-graph:\\n- has_bridges: {papers_has_bridges}\\n- number of bridges: {len(papers_bridges)}\\n- bridges: {papers_bridges}\")"
   ]
  },
  {
   "cell_type": "markdown",
   "metadata": {},
   "source": [
    "## Degree centrality analysis"
   ]
  },
  {
   "cell_type": "code",
   "execution_count": null,
   "metadata": {},
   "outputs": [],
   "source": [
    "# entities-graph degree centrality analysis\n",
    "entities_degree_centrality = networkx.degree_centrality(entities_nxgraph)\n",
    "entities_df = pandas.DataFrame(list(entities_degree_centrality.items()), columns = ['node', 'degree_centrality'])\n",
    "entities_df.to_csv('entities/degree_centrality.csv')\n",
    "\n",
    "print(entities_df)"
   ]
  },
  {
   "cell_type": "code",
   "execution_count": null,
   "metadata": {},
   "outputs": [],
   "source": [
    "# papers-graph degree centrality analysis\n",
    "papers_degree_centrality = networkx.degree_centrality(papers_nxgraph)\n",
    "papers_df = pandas.DataFrame(list(papers_degree_centrality.items()), columns = ['node', 'degree_centrality'])\n",
    "papers_df.to_csv('papers/degree_centrality.csv')\n",
    "\n",
    "print(papers_df)"
   ]
  },
  {
   "cell_type": "code",
   "execution_count": 3,
   "metadata": {},
   "outputs": [
    {
     "name": "stderr",
     "output_type": "stream",
     "text": [
      "Exception ignored in: <bound method IPythonKernel._clean_thread_parent_frames of <ipykernel.ipkernel.IPythonKernel object at 0x105b03650>>\n",
      "Traceback (most recent call last):\n",
      "  File \"/opt/homebrew/Caskroom/miniconda/base/envs/med-graph/lib/python3.11/site-packages/ipykernel/ipkernel.py\", line 775, in _clean_thread_parent_frames\n",
      "    def _clean_thread_parent_frames(\n",
      "\n",
      "KeyboardInterrupt: \n"
     ]
    }
   ],
   "source": [
    "# entities-graph cliques analysis\n",
    "entitites_number_of_cliques = list(networkx.enumerate_all_cliques(entities_nxgraph))\n",
    "\n",
    "print(f\"Entities-graph:\\n- number of cliques: {len(entitites_number_of_cliques)}\\n\")\n"
   ]
  },
  {
   "cell_type": "code",
   "execution_count": null,
   "metadata": {},
   "outputs": [],
   "source": [
    "# papers-graph cliques analysis\n",
    "papers_number_of_cliques = list(networkx.enumerate_all_cliques(papers_nxgraph))\n",
    "\n",
    "print(f\"Papers-graph:\\n- number of cliques: {len(papers_number_of_cliques)}\\n\")"
   ]
  },
  {
   "cell_type": "markdown",
   "metadata": {},
   "source": [
    "## Chains Analysis"
   ]
  },
  {
   "cell_type": "code",
   "execution_count": 35,
   "metadata": {},
   "outputs": [
    {
     "name": "stdout",
     "output_type": "stream",
     "text": [
      "Entities-graph:\n",
      "- number of chains: 126585\n",
      "- longest chain: 2471 edges\n",
      "- shortest chain: 1 edges\n",
      "\n",
      "Papers-graph:\n",
      "- number of chains: 193032\n",
      "- longest chain: 25 edges\n",
      "- shortest chain: 1 edges\n"
     ]
    }
   ],
   "source": [
    "# Chains analysis\n",
    "entities_chains = list(networkx.chain_decomposition(entities_nxgraph))\n",
    "entities_chains.sort(key = len)\n",
    "\n",
    "papers_chains = list(networkx.chain_decomposition(papers_nxgraph))\n",
    "papers_chains.sort(key = len)\n",
    "\n",
    "print(f\"Entities-graph:\\n- number of chains: {len(entities_chains)}\\n- longest chain: {len(entities_chains[-1])} edges\\n- shortest chain: {len(entities_chains[0])} edges\\n\")\n",
    "print(f\"Papers-graph:\\n- number of chains: {len(papers_chains)}\\n- longest chain: {len(papers_chains[-1])} edges\\n- shortest chain: {len(papers_chains[0])} edges\")"
   ]
  },
  {
   "cell_type": "markdown",
   "metadata": {},
   "source": [
    "## Cycles analysis"
   ]
  },
  {
   "cell_type": "code",
   "execution_count": 37,
   "metadata": {},
   "outputs": [
    {
     "name": "stdout",
     "output_type": "stream",
     "text": [
      "Entities-graph:\n",
      "- number of cycles: 126585\n",
      "- girth: 3\n",
      "- longest cycle: 254 nodes\n",
      "\n",
      "Papers-graph:\n",
      "- number of cycles: 193032\n",
      "- girth: 3\n",
      "- longest cycle: 83 nodes\n"
     ]
    }
   ],
   "source": [
    "# Cycles analysis\n",
    "entities_girth = networkx.girth(entities_nxgraph)\n",
    "entities_cycles = networkx.cycle_basis(entities_nxgraph)\n",
    "entities_cycles.sort(key = len)\n",
    "\n",
    "papers_girth = networkx.girth(papers_nxgraph)\n",
    "papers_cycles = networkx.cycle_basis(papers_nxgraph)\n",
    "papers_cycles.sort(key = len)\n",
    "\n",
    "print(f\"Entities-graph:\\n- number of cycles: {len(entities_cycles)}\\n- girth: {entities_girth}\\n- longest cycle: {len(entities_cycles[-1])} nodes\\n\")\n",
    "print(f\"Papers-graph:\\n- number of cycles: {len(papers_cycles)}\\n- girth: {papers_girth}\\n- longest cycle: {len(papers_cycles[-1])} nodes\")"
   ]
  },
  {
   "cell_type": "markdown",
   "metadata": {},
   "source": [
    "## PageRank analysis"
   ]
  },
  {
   "cell_type": "code",
   "execution_count": null,
   "metadata": {},
   "outputs": [],
   "source": [
    "# entities-graph pagerank analysis\n",
    "entities_pagerank = networkx.pagerank(entities_nxgraph)\n",
    "entities_df = pandas.DataFrame(list(entities_pagerank.items()), columns = ['node', 'pagerank value'])\n",
    "entities_df.to_csv('entities/pagerank.csv')\n",
    "\n",
    "print(entities_df)"
   ]
  },
  {
   "cell_type": "code",
   "execution_count": null,
   "metadata": {},
   "outputs": [],
   "source": [
    "# papers-graph pagerank analysis\n",
    "papers_pagerank = networkx.pagerank(papers_nxgraph)\n",
    "papers_df = pandas.DataFrame(list(papers_pagerank.items()), columns = ['node', 'pagerank value'])\n",
    "papers_df.to_csv('papers/pagerank.csv')\n",
    "\n",
    "print(papers_df)"
   ]
  }
 ],
 "metadata": {
  "kernelspec": {
   "display_name": "med-graph",
   "language": "python",
   "name": "python3"
  },
  "language_info": {
   "codemirror_mode": {
    "name": "ipython",
    "version": 3
   },
   "file_extension": ".py",
   "mimetype": "text/x-python",
   "name": "python",
   "nbconvert_exporter": "python",
   "pygments_lexer": "ipython3",
   "version": "3.11.8"
  }
 },
 "nbformat": 4,
 "nbformat_minor": 2
}
