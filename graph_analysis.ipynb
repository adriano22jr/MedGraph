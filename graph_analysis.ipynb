{
 "cells": [
  {
   "cell_type": "markdown",
   "metadata": {},
   "source": [
    "# Papers-graph analysis with networkx functions"
   ]
  },
  {
   "cell_type": "code",
   "execution_count": 1,
   "metadata": {},
   "outputs": [],
   "source": [
    "import json, networkx\n",
    "\n",
    "# Entities dataset load\n",
    "with open(\"graph/entities_graph.json\", \"r\") as file:\n",
    "    entities_json = json.load(file)\n",
    "    \n",
    "# Papers dataset load\n",
    "with open(\"graph/even_more_updated_output_file.json\", \"r\") as file:\n",
    "    papers_json = json.load(file)\n",
    "    \n",
    "    \n",
    "# Entities-graph conversion to networkx object\n",
    "# Since in the json file we have a directed graph, we need to convert it to an undirected graph\n",
    "# We then go to 281734 edges to 140867. Nodes are the same.\n",
    "entities_nxgraph = networkx.Graph()\n",
    "\n",
    "for node in entities_json[\"nodes\"]:\n",
    "    entities_nxgraph.add_node(node[\"id\"], name = node[\"name\"], category = node[\"category\"])\n",
    "    \n",
    "for edge in entities_json[\"links\"]:\n",
    "    entities_nxgraph.add_edge(edge[\"source\"], edge[\"target\"], weight = edge[\"weight\"], common_papers = edge[\"common_papers\"])\n",
    "    \n",
    "\n",
    "# Papers-graph conversion to networkx object\n",
    "# The same rules apply to this graph. We went to 455672 edges to 194991 edges since edges with same source/target\n",
    "# but different entities are cut-out. Nodes are the same.\n",
    "papers_nxgraph = networkx.Graph()\n",
    "for node in papers_json[\"nodes\"]:\n",
    "    papers_nxgraph.add_node(node[\"id\"], terms = node[\"terms\"])\n",
    "    \n",
    "for edge in papers_json[\"links\"]:\n",
    "    papers_nxgraph.add_edge(edge[\"source\"], edge[\"target\"])"
   ]
  },
  {
   "cell_type": "code",
   "execution_count": 9,
   "metadata": {},
   "outputs": [
    {
     "ename": "AttributeError",
     "evalue": "module 'networkx' has no attribute 'numbers_of_cliques'",
     "output_type": "error",
     "traceback": [
      "\u001b[0;31m---------------------------------------------------------------------------\u001b[0m",
      "\u001b[0;31mAttributeError\u001b[0m                            Traceback (most recent call last)",
      "Cell \u001b[0;32mIn[9], line 26\u001b[0m\n\u001b[1;32m     21\u001b[0m papers_degree_centrality \u001b[38;5;241m=\u001b[39m networkx\u001b[38;5;241m.\u001b[39mdegree_centrality(papers_nxgraph)\n\u001b[1;32m     25\u001b[0m \u001b[38;5;66;03m# Cliques analysis\u001b[39;00m\n\u001b[0;32m---> 26\u001b[0m entitites_numbers_of_cliques \u001b[38;5;241m=\u001b[39m \u001b[43mnetworkx\u001b[49m\u001b[38;5;241;43m.\u001b[39;49m\u001b[43mnumbers_of_cliques\u001b[49m(entities_nxgraph)\n\u001b[1;32m     27\u001b[0m entities_cliques \u001b[38;5;241m=\u001b[39m \u001b[38;5;28mlist\u001b[39m(networkx\u001b[38;5;241m.\u001b[39mfind_cliques(entities_nxgraph))\n\u001b[1;32m     29\u001b[0m papers_numbers_of_cliques \u001b[38;5;241m=\u001b[39m networkx\u001b[38;5;241m.\u001b[39mnumbers_of_cliques(papers_nxgraph)\n",
      "\u001b[0;31mAttributeError\u001b[0m: module 'networkx' has no attribute 'numbers_of_cliques'"
     ]
    }
   ],
   "source": [
    "# Connectivity analysis with connected components\n",
    "entities_is_connected = networkx.is_connected(entities_nxgraph)\n",
    "entities_n_connected_components = networkx.number_connected_components(entities_nxgraph)\n",
    "entities_size_connected_components = [len(component) for component in sorted(networkx.connected_components(entities_nxgraph), key = len, reverse = False)]\n",
    "\n",
    "papers_is_connected = networkx.is_connected(papers_nxgraph)\n",
    "papers_n_connected_components = networkx.number_connected_components(papers_nxgraph)\n",
    "papers_size_connected_components = [len(component) for component in sorted(networkx.connected_components(papers_nxgraph), key = len, reverse = False)]\n",
    "\n",
    "\n",
    "# Bridges analysis\n",
    "entities_has_bridges = networkx.has_bridges(entities_nxgraph)\n",
    "entities_bridges = networkx.bridges(entities_nxgraph)\n",
    "\n",
    "papers_has_bridges = networkx.has_bridges(papers_nxgraph)\n",
    "papers_bridges = networkx.bridges(papers_nxgraph)\n",
    "\n",
    "\n",
    "# Degree centrality analysis\n",
    "entities_degree_centrality = networkx.degree_centrality(entities_nxgraph)\n",
    "papers_degree_centrality = networkx.degree_centrality(papers_nxgraph)\n",
    "\n",
    "\n",
    "\n",
    "# Cliques analysis\n",
    "entitites_number_of_cliques = networkx.number_of_cliques(entities_nxgraph)\n",
    "entities_cliques = list(networkx.find_cliques(entities_nxgraph))\n",
    "\n",
    "papers_number_of_cliques = networkx.number_of_cliques(papers_nxgraph)\n",
    "papers_cliques = list(networkx.find_cliques(papers_nxgraph))\n",
    "\n",
    "\n",
    "# Chains analysis\n",
    "entities_chains = networkx.chain_decomposition(entities_nxgraph)\n",
    "papers_chains = networkx.chain_decomposition(papers_nxgraph)\n",
    "\n",
    "\n",
    "# Cycles analysis\n",
    "entities_girth = networkx.girth(entities_nxgraph)\n",
    "entities_cycles = networkx.cycle_basis(entities_nxgraph)\n",
    "\n",
    "papers_girth = networkx.girth(papers_nxgraph)\n",
    "papers_cycles = networkx.cycle_basis(papers_nxgraph)\n",
    "\n",
    "\n",
    "# Pagerank analysis\n",
    "entities_pagerank = networkx.pagerank(entities_nxgraph)\n",
    "papers_pagerank = networkx.pagerank(papers_nxgraph)\n",
    "\n",
    "\n",
    "# Walks analysis\n",
    "# entities_walks = networkx.number_of_walks(entities_nxgraph)\n",
    "# papers_walks = networkx.number_of_walks(papers_nxgraph)"
   ]
  }
 ],
 "metadata": {
  "kernelspec": {
   "display_name": "med-graph",
   "language": "python",
   "name": "python3"
  },
  "language_info": {
   "codemirror_mode": {
    "name": "ipython",
    "version": 3
   },
   "file_extension": ".py",
   "mimetype": "text/x-python",
   "name": "python",
   "nbconvert_exporter": "python",
   "pygments_lexer": "ipython3",
   "version": "3.11.8"
  }
 },
 "nbformat": 4,
 "nbformat_minor": 2
}
