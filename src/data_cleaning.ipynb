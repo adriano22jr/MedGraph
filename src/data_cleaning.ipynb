{
 "cells": [
  {
   "cell_type": "code",
   "execution_count": 7,
   "metadata": {},
   "outputs": [],
   "source": [
    "import pandas as pd\n",
    "from pymongo import MongoClient"
   ]
  },
  {
   "cell_type": "code",
   "execution_count": 18,
   "metadata": {},
   "outputs": [],
   "source": [
    "def _connect_mongo():\n",
    "    return MongoClient(\"mongodb://localhost:27017/\")\n",
    "\n",
    "def read_mongo(db, collection):\n",
    "    client = _connect_mongo()\n",
    "    database = client[db]\n",
    "    col = database[collection]\n",
    "\n",
    "    df =  pd.DataFrame(list(col.find({})))\n",
    "    return df\n",
    "\n",
    "if __name__ == '__main__':\n",
    "    df = read_mongo('MedGraph', 'Dataset2000Entries')\n",
    "    df.to_csv('../data/dataset2000entries.csv', index=False)"
   ]
  },
  {
   "cell_type": "code",
   "execution_count": 40,
   "metadata": {},
   "outputs": [
    {
     "ename": "TypeError",
     "evalue": "Series.to_dict() got an unexpected keyword argument 'orient'",
     "output_type": "error",
     "traceback": [
      "\u001b[0;31m---------------------------------------------------------------------------\u001b[0m",
      "\u001b[0;31mTypeError\u001b[0m                                 Traceback (most recent call last)",
      "Cell \u001b[0;32mIn[40], line 9\u001b[0m\n\u001b[1;32m      7\u001b[0m \u001b[38;5;66;03m# Upload columns lists as mongodb collections\u001b[39;00m\n\u001b[1;32m      8\u001b[0m dataframe[\u001b[38;5;124m\"\u001b[39m\u001b[38;5;124mauthors\u001b[39m\u001b[38;5;124m\"\u001b[39m] \u001b[38;5;241m=\u001b[39m dataframe[\u001b[38;5;124m\"\u001b[39m\u001b[38;5;124mauthors\u001b[39m\u001b[38;5;124m\"\u001b[39m]\u001b[38;5;241m.\u001b[39mapply(\u001b[38;5;28;01mlambda\u001b[39;00m x: x\u001b[38;5;241m.\u001b[39msplit(\u001b[38;5;124m\"\u001b[39m\u001b[38;5;124m, \u001b[39m\u001b[38;5;124m\"\u001b[39m))\n\u001b[0;32m----> 9\u001b[0m data \u001b[38;5;241m=\u001b[39m \u001b[43mdataframe\u001b[49m\u001b[43m[\u001b[49m\u001b[38;5;124;43m\"\u001b[39;49m\u001b[38;5;124;43mauthors\u001b[39;49m\u001b[38;5;124;43m\"\u001b[39;49m\u001b[43m]\u001b[49m\u001b[38;5;241;43m.\u001b[39;49m\u001b[43mto_dict\u001b[49m\u001b[43m(\u001b[49m\u001b[43morient\u001b[49m\u001b[38;5;241;43m=\u001b[39;49m\u001b[38;5;124;43m\"\u001b[39;49m\u001b[38;5;124;43mrecords\u001b[39;49m\u001b[38;5;124;43m\"\u001b[39;49m\u001b[43m)\u001b[49m\n\u001b[1;32m     10\u001b[0m collection \u001b[38;5;241m=\u001b[39m database[\u001b[38;5;124m\"\u001b[39m\u001b[38;5;124mAuthors\u001b[39m\u001b[38;5;124m\"\u001b[39m]\n\u001b[1;32m     11\u001b[0m \u001b[38;5;66;03m#collection.insert_many(data)\u001b[39;00m\n\u001b[1;32m     12\u001b[0m \n\u001b[1;32m     13\u001b[0m \n\u001b[0;32m   (...)\u001b[0m\n\u001b[1;32m     19\u001b[0m \u001b[38;5;66;03m# dataframe[\"Areas\"] = dataframe[\"Areas\"].apply(lambda x: x.split(\"; \"))\u001b[39;00m\n\u001b[1;32m     20\u001b[0m \u001b[38;5;66;03m# dataframe[\"Categories\"] = dataframe[\"Categories\"].apply(lambda x: x.split(\"; \"))\u001b[39;00m\n",
      "File \u001b[0;32m/opt/homebrew/Caskroom/miniconda/base/envs/medgraph/lib/python3.11/site-packages/pandas/util/_decorators.py:333\u001b[0m, in \u001b[0;36mdeprecate_nonkeyword_arguments.<locals>.decorate.<locals>.wrapper\u001b[0;34m(*args, **kwargs)\u001b[0m\n\u001b[1;32m    327\u001b[0m \u001b[38;5;28;01mif\u001b[39;00m \u001b[38;5;28mlen\u001b[39m(args) \u001b[38;5;241m>\u001b[39m num_allow_args:\n\u001b[1;32m    328\u001b[0m     warnings\u001b[38;5;241m.\u001b[39mwarn(\n\u001b[1;32m    329\u001b[0m         msg\u001b[38;5;241m.\u001b[39mformat(arguments\u001b[38;5;241m=\u001b[39m_format_argument_list(allow_args)),\n\u001b[1;32m    330\u001b[0m         \u001b[38;5;167;01mFutureWarning\u001b[39;00m,\n\u001b[1;32m    331\u001b[0m         stacklevel\u001b[38;5;241m=\u001b[39mfind_stack_level(),\n\u001b[1;32m    332\u001b[0m     )\n\u001b[0;32m--> 333\u001b[0m \u001b[38;5;28;01mreturn\u001b[39;00m \u001b[43mfunc\u001b[49m\u001b[43m(\u001b[49m\u001b[38;5;241;43m*\u001b[39;49m\u001b[43margs\u001b[49m\u001b[43m,\u001b[49m\u001b[43m \u001b[49m\u001b[38;5;241;43m*\u001b[39;49m\u001b[38;5;241;43m*\u001b[39;49m\u001b[43mkwargs\u001b[49m\u001b[43m)\u001b[49m\n",
      "\u001b[0;31mTypeError\u001b[0m: Series.to_dict() got an unexpected keyword argument 'orient'"
     ]
    }
   ],
   "source": [
    "dataframe = pd.read_csv('../data/dataset2000entries.csv')\n",
    "\n",
    "# Connect to mongodb and create a new database\n",
    "client = MongoClient(\"mongodb://localhost:27017/\")\n",
    "database = client[\"MedGraph\"]\n",
    "\n",
    "# Upload columns lists as mongodb collections\n",
    "dataframe[\"authors\"] = dataframe[\"authors\"].apply(lambda x: x.split(\", \"))\n",
    "data = dataframe[\"authors\"].to_dict()\n",
    "collection = database[\"Authors\"]\n",
    "collection.insert_many(data)\n",
    "\n",
    "\n",
    "\n",
    "\n",
    "\n",
    "# dataframe[\"mesh_terms\"] = dataframe[\"mesh_terms\"].apply(lambda x: x.split(\"; \"))\n",
    "# dataframe[\"keywords\"] = dataframe[\"keywords\"].apply(lambda x: x.split(\"; \"))\n",
    "# dataframe[\"Areas\"] = dataframe[\"Areas\"].apply(lambda x: x.split(\"; \"))\n",
    "# dataframe[\"Categories\"] = dataframe[\"Categories\"].apply(lambda x: x.split(\"; \"))"
   ]
  }
 ],
 "metadata": {
  "kernelspec": {
   "display_name": "medgraph",
   "language": "python",
   "name": "python3"
  },
  "language_info": {
   "codemirror_mode": {
    "name": "ipython",
    "version": 3
   },
   "file_extension": ".py",
   "mimetype": "text/x-python",
   "name": "python",
   "nbconvert_exporter": "python",
   "pygments_lexer": "ipython3",
   "version": "3.11.8"
  }
 },
 "nbformat": 4,
 "nbformat_minor": 2
}
