{
 "cells": [
  {
   "cell_type": "code",
   "execution_count": 7,
   "metadata": {},
   "outputs": [],
   "source": [
    "import pandas as pd\n",
    "from pymongo import MongoClient"
   ]
  },
  {
   "cell_type": "code",
   "execution_count": 18,
   "metadata": {},
   "outputs": [],
   "source": [
    "def _connect_mongo():\n",
    "    return MongoClient(\"mongodb://localhost:27017/\")\n",
    "\n",
    "def read_mongo(db, collection):\n",
    "    client = _connect_mongo()\n",
    "    database = client[db]\n",
    "    col = database[collection]\n",
    "\n",
    "    df =  pd.DataFrame(list(col.find({})))\n",
    "    return df\n",
    "\n",
    "if __name__ == '__main__':\n",
    "    df = read_mongo('MedGraph', 'Dataset2000Entries')\n",
    "    df.to_csv('../data/dataset2000entries.csv', index=False)"
   ]
  },
  {
   "cell_type": "code",
   "execution_count": 57,
   "metadata": {},
   "outputs": [],
   "source": [
    "dataframe = pd.read_csv('../data/dataset2000entries.csv')\n",
    "\n",
    "# Connect to mongodb and create a new database\n",
    "client = MongoClient(\"mongodb://localhost:27017/\")\n",
    "database = client[\"MedGraph\"]\n",
    "\n",
    "# Upload columns lists as mongodb collections\n",
    "dataframe[\"authors\"] = dataframe[\"authors\"].apply(lambda x: x.split(\", \"))\n",
    "collection = database[\"Authors\"]\n",
    "for authors in dataframe[\"authors\"]:\n",
    "    for author in authors:\n",
    "        collection.insert_one({\"author\": author})\n",
    "\n",
    "dataframe[\"mesh_terms\"] = dataframe[\"mesh_terms\"].apply(lambda x: x.split(\"; \"))\n",
    "collection = database[\"MeshTerms\"]\n",
    "for terms in dataframe[\"mesh_terms\"]:\n",
    "    for term in terms:\n",
    "        _id = term.split(\":\")[0]\n",
    "        try:\n",
    "            collection.insert_one({\"_id\": _id, \"term_name\" : term.split(\":\")[1]})\n",
    "        except: continue\n",
    "\n",
    "\n",
    "dataframe[\"Areas\"] = dataframe[\"Areas\"].apply(lambda x: x.split(\"; \"))\n",
    "collection = database[\"Areas\"]\n",
    "areas_set = set()\n",
    "for areas in dataframe[\"Areas\"]:\n",
    "    for area in areas:\n",
    "        areas_set.add(area)\n",
    "        \n",
    "for area in areas_set:\n",
    "    collection.insert_one({\"area\": area})\n",
    "\n",
    "        \n",
    "dataframe[\"Categories\"] = dataframe[\"Categories\"].apply(lambda x: x.split(\"; \"))\n",
    "collection = database[\"Categories\"]\n",
    "categories_set = set()\n",
    "for categories in dataframe[\"Categories\"]:\n",
    "    for category in categories:\n",
    "        if \" (Q1)\" in category: category = category.replace(\" (Q1)\", \"\")\n",
    "        elif \" (Q2)\" in category: category = category.replace(\" (Q2)\", \"\")\n",
    "        elif \" (Q3)\" in category: category = category.replace(\" (Q3)\", \"\")\n",
    "        elif \" (Q4)\" in category: category = category.replace(\" (Q4)\", \"\")\n",
    "        \n",
    "        categories_set.add(category)\n",
    "        \n",
    "for category in categories_set:\n",
    "    collection.insert_one({\"category\": category})\n",
    "\n",
    "\n",
    "# dataframe[\"keywords\"] = dataframe[\"keywords\"].apply(lambda x: x.split(\"; \"))"
   ]
  }
 ],
 "metadata": {
  "kernelspec": {
   "display_name": "medgraph",
   "language": "python",
   "name": "python3"
  },
  "language_info": {
   "codemirror_mode": {
    "name": "ipython",
    "version": 3
   },
   "file_extension": ".py",
   "mimetype": "text/x-python",
   "name": "python",
   "nbconvert_exporter": "python",
   "pygments_lexer": "ipython3",
   "version": "3.11.8"
  }
 },
 "nbformat": 4,
 "nbformat_minor": 2
}
