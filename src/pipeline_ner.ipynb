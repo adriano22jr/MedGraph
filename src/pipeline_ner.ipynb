{
 "cells": [
  {
   "cell_type": "code",
   "execution_count": 1,
   "metadata": {},
   "outputs": [],
   "source": [
    "from pymongo import MongoClient\n",
    "\n",
    "# Connect to mongodb and create a new database\n",
    "client = MongoClient(\"mongodb://localhost:27017/\")\n",
    "database = client[\"MedGraph\"]\n",
    "\n",
    "# Base pubmed url: https://pubmed.ncbi.nlm.nih.gov/ + paper_id"
   ]
  },
  {
   "cell_type": "code",
   "execution_count": null,
   "metadata": {},
   "outputs": [],
   "source": [
    "import requests\n",
    "\n",
    "# Web scraping from bern2 online deployment\n",
    "def query_plain(text, url=\"http://bern2.korea.ac.kr/plain\"):\n",
    "    return requests.post(url, json={'text': text}).json()\n",
    "\n",
    "if __name__ == '__main__':\n",
    "    text = \"BACKGROUND\\nLactoferricin (LFcin) is a strong cationic peptide released from the N-terminus of lactoferrin by gastric pepsin digestion. LFcin has some important properties, including high antimicrobial activity. To date, lactoferricins have been isolated and characterised from various animal species, but not from camel. The aim of this study was to characterise and express recombinant camel lactoferricin (LFcinC) in Pichia pastoris and investigate its antimicrobial activity.\\n\\n\\nRESULTS\\nAfter methanol induction, LFcinC was expressed and secreted into a culture broth medium and the results determined by concentrated supernatant culture medium showed high antimicrobial activity against the following microorganisms: Escherichia coli PTCC 1330 (ATCC 8739), Staphylococcus aureus PTCC 1112 (ATCC 6538), Pseudomonas aeruginosa PTCC 1074 (ATCC 9027), Bacillus subtilis PTCC 1023 (ATCC 6633), and Candida albicans PTCC 5027 (ATCC 10231). Thermal stability was clarified with antibacterial activity against Escherichia coli PTCC 1330 (ATCC 8739).\\n\\n\\nCONCLUSION\\nResults confirmed that camel lactoferricin had suitable antimicrobial activity and its production by Pichia pastoris can be used for recombinant production.\"\n",
    "    print(query_plain(text))"
   ]
  },
  {
   "cell_type": "code",
   "execution_count": null,
   "metadata": {},
   "outputs": [],
   "source": [
    "# GLiNER custom build (https://github.com/urchade/GLiNER)\n",
    "\n",
    "from gliner import GLiNER\n",
    "\n",
    "model = GLiNER.from_pretrained(\"urchade/gliner_large_bio-v0.1\")\n",
    "labels = [\n",
    "    \"antibiotic\", \"clinical_event\", \"diagnostic_procedure\", \"drug\", \"disease_disorder\", \n",
    "    \"drug_dosage\", \"treatment_duration\", \"drug_strength\", \"drug_frequency\", \"severity\", \"lab_value\",\n",
    "    \"sign_symptom\", \"gene\", \"species\", \"tissue\", \"treatment\",\n",
    "    \"age\", \"sex\", \"height\", \"weight\", \"date\", \"protein\", \n",
    "    \"cell\", \"plant\", \"volume\", \"subject\", \"body_part\", \"anatomical_system\", \n",
    "    \"chemical_system\", \"enzyme\", \"biological_process\", \"molecular_function\", \"mutation\", \n",
    "    \"immunologic_marker\", \"organism\", \"compound\", \"virus\", \"bacteria\", \"parasite\", \"clinical_trial\", \n",
    "    \"surgical_procedure\", \"molecule\", \"protein_family\", \"environmental_factor\",\n",
    "    \"diet\", \"symptom_complex\", \"study_design\", \"fungus\", \"cell_type\", \"cell_line\", \n",
    "    \"device\", \"side_effect\", \"condition_outcome\", \"clinical_guideline\",\n",
    "    \"medical_abbreviation\", \"medical_term\", \"peptide\", \"activity\"\n",
    "]\n",
    "\n",
    "text = \"\"\"\n",
    "Lactoferricin (LFcin) is a strong cationic peptide released from the N-terminus of lactoferrin by gastric pepsin digestion. LFcin has some important properties, including high antimicrobial activity. To date, lactoferricins have been isolated and characterised from various animal species, but not from camel. The aim of this study was to characterise and express recombinant camel lactoferricin (LFcinC) in Pichia pastoris and investigate its antimicrobial activity.After methanol induction, LFcinC was expressed and secreted into a culture broth medium and the results determined by concentrated supernatant culture medium showed high antimicrobial activity against the following microorganisms: Escherichia coli PTCC 1330 (ATCC 8739), Staphylococcus aureus PTCC 1112 (ATCC 6538), Pseudomonas aeruginosa PTCC 1074 (ATCC 9027), Bacillus subtilis PTCC 1023 (ATCC 6633), and Candida albicans PTCC 5027 (ATCC 10231). Thermal stability was clarified with antibacterial activity against Escherichia coli PTCC 1330 (ATCC 8739). Results confirmed that camel lactoferricin had suitable antimicrobial activity and its production by Pichia pastoris can be used for recombinant production.\n",
    "\"\"\"\n",
    "\n",
    "entities = model.predict_entities(text, labels)\n",
    "\n",
    "# type(entity): dict\n",
    "for entity in entities:\n",
    "    print(entity[\"text\"], \"=>\", entity[\"label\"], \" | score: \", entity[\"score\"])"
   ]
  },
  {
   "cell_type": "code",
   "execution_count": null,
   "metadata": {},
   "outputs": [],
   "source": [
    "entities_dict = {}\n",
    "for entity in entities:\n",
    "    if (entity[\"text\"], entity[\"label\"]) not in entities_dict:\n",
    "        entities_dict[(entity[\"text\"], entity[\"label\"])] = (1, float(entity[\"score\"]))\n",
    "    else:\n",
    "        if entities_dict[(entity[\"text\"], entity[\"label\"])][1] < entity[\"score\"]:\n",
    "            entities_dict[(entity[\"text\"], entity[\"label\"])] = (entities_dict[(entity[\"text\"], entity[\"label\"])][0] + 1, entity[\"score\"])\n",
    "        else:\n",
    "            entities_dict[(entity[\"text\"], entity[\"label\"])] = (entities_dict[(entity[\"text\"], entity[\"label\"])][0] + 1, entities_dict[(entity[\"text\"], entity[\"label\"])][1])\n",
    "\n",
    "for key, value in entities_dict.items():\n",
    "    print(key[0], \"=>\", key[1], \" | max_score: \", value[1], \" | count: \", value[0])\n"
   ]
  }
 ],
 "metadata": {
  "kernelspec": {
   "display_name": "medgraph",
   "language": "python",
   "name": "python3"
  },
  "language_info": {
   "codemirror_mode": {
    "name": "ipython",
    "version": 3
   },
   "file_extension": ".py",
   "mimetype": "text/x-python",
   "name": "python",
   "nbconvert_exporter": "python",
   "pygments_lexer": "ipython3",
   "version": "3.11.8"
  }
 },
 "nbformat": 4,
 "nbformat_minor": 2
}
