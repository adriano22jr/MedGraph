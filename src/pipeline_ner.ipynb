{
 "cells": [
  {
   "cell_type": "code",
   "execution_count": 6,
   "metadata": {},
   "outputs": [],
   "source": [
    "from pymongo import MongoClient\n",
    "\n",
    "# Connect to mongodb and create a new database\n",
    "client = MongoClient(\"mongodb://localhost:27017/\")\n",
    "database = client[\"MedGraph\"]\n",
    "\n",
    "# Base pubmed url: https://pubmed.ncbi.nlm.nih.gov/ + paper_id"
   ]
  },
  {
   "cell_type": "code",
   "execution_count": 4,
   "metadata": {},
   "outputs": [
    {
     "name": "stdout",
     "output_type": "stream",
     "text": [
      "{'annotations': [{'id': ['NCBIGene:4057'], 'is_neural_normalized': False, 'mention': 'Lactoferricin', 'obj': 'gene', 'prob': 0.967741072177887, 'span': {'begin': 11, 'end': 24}}, {'id': ['NCBIGene:9181'], 'is_neural_normalized': True, 'mention': 'LFcin', 'obj': 'gene', 'prob': 0.9787614345550537, 'span': {'begin': 26, 'end': 31}}, {'id': ['CHEBI:25555'], 'is_neural_normalized': False, 'mention': 'N', 'obj': 'drug', 'prob': 0.9921150803565979, 'span': {'begin': 80, 'end': 81}}, {'id': ['NCBIGene:4057'], 'is_neural_normalized': True, 'mention': 'lactoferrin', 'obj': 'gene', 'prob': 0.9938363432884216, 'span': {'begin': 94, 'end': 105}}, {'id': ['NCBIGene:5222'], 'is_neural_normalized': True, 'mention': 'gastric pepsin', 'obj': 'gene', 'prob': 0.9609812498092651, 'span': {'begin': 109, 'end': 123}}, {'id': ['NCBIGene:9181'], 'is_neural_normalized': True, 'mention': 'LFcin', 'obj': 'gene', 'prob': 0.8107156753540039, 'span': {'begin': 135, 'end': 140}}, {'id': ['NCBIGene:4057'], 'is_neural_normalized': True, 'mention': 'lactoferricins', 'obj': 'gene', 'prob': 0.9624941349029541, 'span': {'begin': 220, 'end': 234}}, {'id': ['NCBITaxon:9838'], 'is_neural_normalized': False, 'mention': 'camel', 'obj': 'species', 'prob': 0.9527745246887207, 'span': {'begin': 314, 'end': 319}}, {'id': ['NCBIGene:4057'], 'is_neural_normalized': True, 'mention': 'recombinant camel lactoferricin', 'obj': 'gene', 'prob': 0.9968112111091614, 'span': {'begin': 375, 'end': 406}}, {'id': ['NCBITaxon:9838'], 'is_neural_normalized': False, 'mention': 'camel', 'obj': 'species', 'prob': 0.4653642773628235, 'span': {'begin': 387, 'end': 392}}, {'id': ['NCBIGene:9181'], 'is_neural_normalized': True, 'mention': 'LFcinC', 'obj': 'gene', 'prob': 0.9941393136978149, 'span': {'begin': 408, 'end': 414}}, {'id': ['NCBITaxon:4922'], 'is_neural_normalized': False, 'mention': 'Pichia pastoris', 'obj': 'species', 'prob': 0.9528535008430481, 'span': {'begin': 419, 'end': 434}}, {'id': ['mesh:D000432'], 'is_neural_normalized': False, 'mention': 'methanol', 'obj': 'drug', 'prob': 0.9142057299613953, 'span': {'begin': 495, 'end': 503}}, {'id': ['NCBIGene:9181'], 'is_neural_normalized': True, 'mention': 'LFcinC', 'obj': 'gene', 'prob': 0.9933264255523682, 'span': {'begin': 515, 'end': 521}}, {'id': ['NCBITaxon:562'], 'is_neural_normalized': False, 'mention': 'Escherichia coli', 'obj': 'species', 'prob': 0.9757360219955444, 'span': {'begin': 720, 'end': 736}}, {'id': ['cellosaurus:CVCL_L414'], 'is_neural_normalized': False, 'mention': 'PTCC', 'obj': 'cell_line', 'prob': 0.5896873474121094, 'span': {'begin': 737, 'end': 741}}, {'id': ['NCBITaxon:1280'], 'is_neural_normalized': False, 'mention': 'Staphylococcus aureus', 'obj': 'species', 'prob': 0.9787673950195312, 'span': {'begin': 760, 'end': 781}}, {'id': ['cellosaurus:CVCL_L414'], 'is_neural_normalized': False, 'mention': 'PTCC', 'obj': 'cell_line', 'prob': 0.5010700821876526, 'span': {'begin': 782, 'end': 786}}, {'id': ['NCBITaxon:287'], 'is_neural_normalized': False, 'mention': 'Pseudomonas aeruginosa', 'obj': 'species', 'prob': 0.9713134765625, 'span': {'begin': 805, 'end': 827}}, {'id': ['cellosaurus:CVCL_L414'], 'is_neural_normalized': False, 'mention': 'PTCC', 'obj': 'cell_line', 'prob': 0.552836537361145, 'span': {'begin': 828, 'end': 832}}, {'id': ['NCBITaxon:1423'], 'is_neural_normalized': False, 'mention': 'Bacillus subtilis', 'obj': 'species', 'prob': 0.9779490232467651, 'span': {'begin': 851, 'end': 868}}, {'id': ['cellosaurus:CVCL_L414'], 'is_neural_normalized': False, 'mention': 'PTCC', 'obj': 'cell_line', 'prob': 0.5687400698661804, 'span': {'begin': 869, 'end': 873}}, {'id': ['NCBITaxon:5476'], 'is_neural_normalized': False, 'mention': 'Candida albicans', 'obj': 'species', 'prob': 0.9680542945861816, 'span': {'begin': 896, 'end': 912}}, {'id': ['CUI-less'], 'is_neural_normalized': False, 'mention': 'PTCC 5027', 'obj': 'cell_line', 'prob': 0.4798576235771179, 'span': {'begin': 913, 'end': 922}}, {'id': ['CUI-less'], 'is_neural_normalized': False, 'mention': 'ATCC 10231', 'obj': 'cell_line', 'prob': 0.47309356927871704, 'span': {'begin': 924, 'end': 934}}, {'id': ['NCBITaxon:562'], 'is_neural_normalized': False, 'mention': 'Escherichia coli', 'obj': 'species', 'prob': 0.9628920555114746, 'span': {'begin': 1005, 'end': 1021}}, {'id': ['NCBITaxon:9838'], 'is_neural_normalized': False, 'mention': 'camel', 'obj': 'species', 'prob': 0.959581732749939, 'span': {'begin': 1081, 'end': 1086}}, {'id': ['CHEBI:42491'], 'is_neural_normalized': True, 'mention': 'lactoferricin', 'obj': 'drug', 'prob': 0.9973384737968445, 'span': {'begin': 1087, 'end': 1100}}, {'id': ['CUI-less'], 'is_neural_normalized': False, 'mention': 'Pichia', 'obj': 'cell_line', 'prob': 0.6812980771064758, 'span': {'begin': 1159, 'end': 1165}}, {'id': ['NCBITaxon:4922'], 'is_neural_normalized': False, 'mention': 'Pichia pastoris', 'obj': 'species', 'prob': 0.9708402752876282, 'span': {'begin': 1159, 'end': 1174}}], 'text': 'BACKGROUND Lactoferricin (LFcin) is a strong cationic peptide released from the N-terminus of lactoferrin by gastric pepsin digestion. LFcin has some important properties, including high antimicrobial activity. To date, lactoferricins have been isolated and characterised from various animal species, but not from camel. The aim of this study was to characterise and express recombinant camel lactoferricin (LFcinC) in Pichia pastoris and investigate its antimicrobial activity.   RESULTS After methanol induction, LFcinC was expressed and secreted into a culture broth medium and the results determined by concentrated supernatant culture medium showed high antimicrobial activity against the following microorganisms: Escherichia coli PTCC 1330 (ATCC 8739), Staphylococcus aureus PTCC 1112 (ATCC 6538), Pseudomonas aeruginosa PTCC 1074 (ATCC 9027), Bacillus subtilis PTCC 1023 (ATCC 6633), and Candida albicans PTCC 5027 (ATCC 10231). Thermal stability was clarified with antibacterial activity against Escherichia coli PTCC 1330 (ATCC 8739).   CONCLUSION Results confirmed that camel lactoferricin had suitable antimicrobial activity and its production by Pichia pastoris can be used for recombinant production.', 'timestamp': 'Wed Jun 05 10:26:53 +0000 2024'}\n"
     ]
    }
   ],
   "source": [
    "import requests\n",
    "\n",
    "# Web scraping from bern2 online deployment\n",
    "def query_plain(text, url=\"http://bern2.korea.ac.kr/plain\"):\n",
    "    return requests.post(url, json={'text': text}).json()\n",
    "\n",
    "if __name__ == '__main__':\n",
    "    text = \"BACKGROUND\\nLactoferricin (LFcin) is a strong cationic peptide released from the N-terminus of lactoferrin by gastric pepsin digestion. LFcin has some important properties, including high antimicrobial activity. To date, lactoferricins have been isolated and characterised from various animal species, but not from camel. The aim of this study was to characterise and express recombinant camel lactoferricin (LFcinC) in Pichia pastoris and investigate its antimicrobial activity.\\n\\n\\nRESULTS\\nAfter methanol induction, LFcinC was expressed and secreted into a culture broth medium and the results determined by concentrated supernatant culture medium showed high antimicrobial activity against the following microorganisms: Escherichia coli PTCC 1330 (ATCC 8739), Staphylococcus aureus PTCC 1112 (ATCC 6538), Pseudomonas aeruginosa PTCC 1074 (ATCC 9027), Bacillus subtilis PTCC 1023 (ATCC 6633), and Candida albicans PTCC 5027 (ATCC 10231). Thermal stability was clarified with antibacterial activity against Escherichia coli PTCC 1330 (ATCC 8739).\\n\\n\\nCONCLUSION\\nResults confirmed that camel lactoferricin had suitable antimicrobial activity and its production by Pichia pastoris can be used for recombinant production.\"\n",
    "    print(query_plain(text))"
   ]
  },
  {
   "cell_type": "code",
   "execution_count": null,
   "metadata": {},
   "outputs": [],
   "source": [
    "# GLiNER custom build (https://github.com/urchade/GLiNER)\n",
    "\n",
    "from gliner import GLiNER\n",
    "import os, warnings\n",
    "\n",
    "warnings.filterwarnings(\"ignore\", category=FutureWarning, module='huggingface_hub.file_download')\n",
    "warnings.filterwarnings(\"ignore\", message=\"Sentence of length\")\n",
    "warnings.filterwarnings(\"ignore\", category=UserWarning, module='transformers.convert_slow_tokenizer')\n",
    "\n",
    "collection = database['Dataset2000Entries']\n",
    "\n",
    "\n",
    "model = GLiNER.from_pretrained(\"urchade/gliner_large_bio-v0.1\", max_len = 32768)\n",
    "\n",
    "labels = [\n",
    "    \"antibiotic\", \"clinical_event\", \"diagnostic_procedure\", \"drug\", \"disease_disorder\", \n",
    "    \"drug_dosage\", \"treatment_duration\", \"drug_strength\", \"drug_frequency\", \"severity\", \"lab_value\",\n",
    "    \"sign_symptom\", \"gene\", \"species\", \"tissue\", \"treatment\",\n",
    "    \"age\", \"sex\", \"height\", \"weight\", \"date\", \"protein\", \n",
    "    \"cell\", \"plant\", \"volume\", \"subject\", \"body_part\", \"anatomical_system\", \n",
    "    \"chemical_system\", \"enzyme\", \"biological_process\", \"molecular_function\", \"mutation\", \n",
    "    \"immunologic_marker\", \"organism\", \"compound\", \"virus\", \"bacteria\", \"parasite\", \"clinical_trial\", \n",
    "    \"surgical_procedure\", \"molecule\", \"protein_family\", \"environmental_factor\",\n",
    "    \"diet\", \"symptom_complex\", \"study_design\", \"fungus\", \"cell_type\", \"cell_line\", \n",
    "    \"device\", \"side_effect\", \"condition_outcome\", \"clinical_guideline\",\n",
    "    \"medical_abbreviation\", \"medical_term\", \"peptide\", \"activity\"\n",
    "]\n",
    "\n",
    "os.makedirs(\"documents\", exist_ok=True)\n",
    "documents = collection.find()\n",
    "\n",
    "for doc in documents:\n",
    "    text = doc['abstract'] \n",
    "    entities = model.predict_entities(text, labels)\n",
    "    \n",
    "    entities_dict = {}\n",
    "    for entity in entities:\n",
    "        key = (entity[\"text\"], entity[\"label\"])\n",
    "        if key not in entities_dict:\n",
    "            entities_dict[key] = (1, float(entity[\"score\"]))\n",
    "        else:\n",
    "            count, max_score = entities_dict[key]\n",
    "            entities_dict[key] = (count + 1, max(max_score, entity[\"score\"]))\n",
    "    \n",
    "    lines = [f\"{key[0]} => {key[1]} | max_score: {value[1]} | count: {value[0]}\" for key, value in entities_dict.items()]\n",
    "    content = \"\\n\".join(lines)\n",
    "    \n",
    "    file_path = os.path.join(\"documents\", f\"{doc['_id']}.txt\")\n",
    "    with open(file_path, \"w\", encoding=\"utf-8\") as f:\n",
    "        f.write(content)\n",
    "    \n",
    "    print(f\"Documento {doc['_id']} salvato con successo!\")"
   ]
  },
  {
   "cell_type": "code",
   "execution_count": 12,
   "metadata": {},
   "outputs": [
    {
     "ename": "TypeError",
     "evalue": "keys must be str, int, float, bool or None, not tuple",
     "output_type": "error",
     "traceback": [
      "\u001b[1;31m---------------------------------------------------------------------------\u001b[0m",
      "\u001b[1;31mTypeError\u001b[0m                                 Traceback (most recent call last)",
      "Cell \u001b[1;32mIn[12], line 21\u001b[0m\n\u001b[0;32m     17\u001b[0m     key_doc \u001b[38;5;241m=\u001b[39m doc[\u001b[38;5;124m'\u001b[39m\u001b[38;5;124m_id\u001b[39m\u001b[38;5;124m'\u001b[39m]\n\u001b[0;32m     18\u001b[0m     documents_dict[key_doc] \u001b[38;5;241m=\u001b[39m entities_dict\n\u001b[1;32m---> 21\u001b[0m documents_json \u001b[38;5;241m=\u001b[39m \u001b[43mjson\u001b[49m\u001b[38;5;241;43m.\u001b[39;49m\u001b[43mdumps\u001b[49m\u001b[43m(\u001b[49m\u001b[43mdocuments_dict\u001b[49m\u001b[43m,\u001b[49m\u001b[43m \u001b[49m\u001b[43mdefault\u001b[49m\u001b[38;5;241;43m=\u001b[39;49m\u001b[38;5;28;43mstr\u001b[39;49m\u001b[43m)\u001b[49m\n\u001b[0;32m     22\u001b[0m \u001b[38;5;28mprint\u001b[39m(documents_json)\n",
      "File \u001b[1;32mc:\\Users\\antho\\anaconda3\\Lib\\json\\__init__.py:238\u001b[0m, in \u001b[0;36mdumps\u001b[1;34m(obj, skipkeys, ensure_ascii, check_circular, allow_nan, cls, indent, separators, default, sort_keys, **kw)\u001b[0m\n\u001b[0;32m    232\u001b[0m \u001b[38;5;28;01mif\u001b[39;00m \u001b[38;5;28mcls\u001b[39m \u001b[38;5;129;01mis\u001b[39;00m \u001b[38;5;28;01mNone\u001b[39;00m:\n\u001b[0;32m    233\u001b[0m     \u001b[38;5;28mcls\u001b[39m \u001b[38;5;241m=\u001b[39m JSONEncoder\n\u001b[0;32m    234\u001b[0m \u001b[38;5;28;01mreturn\u001b[39;00m \u001b[38;5;28;43mcls\u001b[39;49m\u001b[43m(\u001b[49m\n\u001b[0;32m    235\u001b[0m \u001b[43m    \u001b[49m\u001b[43mskipkeys\u001b[49m\u001b[38;5;241;43m=\u001b[39;49m\u001b[43mskipkeys\u001b[49m\u001b[43m,\u001b[49m\u001b[43m \u001b[49m\u001b[43mensure_ascii\u001b[49m\u001b[38;5;241;43m=\u001b[39;49m\u001b[43mensure_ascii\u001b[49m\u001b[43m,\u001b[49m\n\u001b[0;32m    236\u001b[0m \u001b[43m    \u001b[49m\u001b[43mcheck_circular\u001b[49m\u001b[38;5;241;43m=\u001b[39;49m\u001b[43mcheck_circular\u001b[49m\u001b[43m,\u001b[49m\u001b[43m \u001b[49m\u001b[43mallow_nan\u001b[49m\u001b[38;5;241;43m=\u001b[39;49m\u001b[43mallow_nan\u001b[49m\u001b[43m,\u001b[49m\u001b[43m \u001b[49m\u001b[43mindent\u001b[49m\u001b[38;5;241;43m=\u001b[39;49m\u001b[43mindent\u001b[49m\u001b[43m,\u001b[49m\n\u001b[0;32m    237\u001b[0m \u001b[43m    \u001b[49m\u001b[43mseparators\u001b[49m\u001b[38;5;241;43m=\u001b[39;49m\u001b[43mseparators\u001b[49m\u001b[43m,\u001b[49m\u001b[43m \u001b[49m\u001b[43mdefault\u001b[49m\u001b[38;5;241;43m=\u001b[39;49m\u001b[43mdefault\u001b[49m\u001b[43m,\u001b[49m\u001b[43m \u001b[49m\u001b[43msort_keys\u001b[49m\u001b[38;5;241;43m=\u001b[39;49m\u001b[43msort_keys\u001b[49m\u001b[43m,\u001b[49m\n\u001b[1;32m--> 238\u001b[0m \u001b[43m    \u001b[49m\u001b[38;5;241;43m*\u001b[39;49m\u001b[38;5;241;43m*\u001b[39;49m\u001b[43mkw\u001b[49m\u001b[43m)\u001b[49m\u001b[38;5;241;43m.\u001b[39;49m\u001b[43mencode\u001b[49m\u001b[43m(\u001b[49m\u001b[43mobj\u001b[49m\u001b[43m)\u001b[49m\n",
      "File \u001b[1;32mc:\\Users\\antho\\anaconda3\\Lib\\json\\encoder.py:200\u001b[0m, in \u001b[0;36mJSONEncoder.encode\u001b[1;34m(self, o)\u001b[0m\n\u001b[0;32m    196\u001b[0m         \u001b[38;5;28;01mreturn\u001b[39;00m encode_basestring(o)\n\u001b[0;32m    197\u001b[0m \u001b[38;5;66;03m# This doesn't pass the iterator directly to ''.join() because the\u001b[39;00m\n\u001b[0;32m    198\u001b[0m \u001b[38;5;66;03m# exceptions aren't as detailed.  The list call should be roughly\u001b[39;00m\n\u001b[0;32m    199\u001b[0m \u001b[38;5;66;03m# equivalent to the PySequence_Fast that ''.join() would do.\u001b[39;00m\n\u001b[1;32m--> 200\u001b[0m chunks \u001b[38;5;241m=\u001b[39m \u001b[38;5;28;43mself\u001b[39;49m\u001b[38;5;241;43m.\u001b[39;49m\u001b[43miterencode\u001b[49m\u001b[43m(\u001b[49m\u001b[43mo\u001b[49m\u001b[43m,\u001b[49m\u001b[43m \u001b[49m\u001b[43m_one_shot\u001b[49m\u001b[38;5;241;43m=\u001b[39;49m\u001b[38;5;28;43;01mTrue\u001b[39;49;00m\u001b[43m)\u001b[49m\n\u001b[0;32m    201\u001b[0m \u001b[38;5;28;01mif\u001b[39;00m \u001b[38;5;129;01mnot\u001b[39;00m \u001b[38;5;28misinstance\u001b[39m(chunks, (\u001b[38;5;28mlist\u001b[39m, \u001b[38;5;28mtuple\u001b[39m)):\n\u001b[0;32m    202\u001b[0m     chunks \u001b[38;5;241m=\u001b[39m \u001b[38;5;28mlist\u001b[39m(chunks)\n",
      "File \u001b[1;32mc:\\Users\\antho\\anaconda3\\Lib\\json\\encoder.py:258\u001b[0m, in \u001b[0;36mJSONEncoder.iterencode\u001b[1;34m(self, o, _one_shot)\u001b[0m\n\u001b[0;32m    253\u001b[0m \u001b[38;5;28;01melse\u001b[39;00m:\n\u001b[0;32m    254\u001b[0m     _iterencode \u001b[38;5;241m=\u001b[39m _make_iterencode(\n\u001b[0;32m    255\u001b[0m         markers, \u001b[38;5;28mself\u001b[39m\u001b[38;5;241m.\u001b[39mdefault, _encoder, \u001b[38;5;28mself\u001b[39m\u001b[38;5;241m.\u001b[39mindent, floatstr,\n\u001b[0;32m    256\u001b[0m         \u001b[38;5;28mself\u001b[39m\u001b[38;5;241m.\u001b[39mkey_separator, \u001b[38;5;28mself\u001b[39m\u001b[38;5;241m.\u001b[39mitem_separator, \u001b[38;5;28mself\u001b[39m\u001b[38;5;241m.\u001b[39msort_keys,\n\u001b[0;32m    257\u001b[0m         \u001b[38;5;28mself\u001b[39m\u001b[38;5;241m.\u001b[39mskipkeys, _one_shot)\n\u001b[1;32m--> 258\u001b[0m \u001b[38;5;28;01mreturn\u001b[39;00m \u001b[43m_iterencode\u001b[49m\u001b[43m(\u001b[49m\u001b[43mo\u001b[49m\u001b[43m,\u001b[49m\u001b[43m \u001b[49m\u001b[38;5;241;43m0\u001b[39;49m\u001b[43m)\u001b[49m\n",
      "\u001b[1;31mTypeError\u001b[0m: keys must be str, int, float, bool or None, not tuple"
     ]
    }
   ],
   "source": [
    "import json\n",
    "documents = collection.find()\n",
    "documents_dict = {}\n",
    "\n",
    "for doc in documents:\n",
    "    text = doc['abstract'] \n",
    "    entities = model.predict_entities(text, labels)\n",
    "    \n",
    "    entities_dict = {}\n",
    "    for entity in entities:\n",
    "        key = (entity[\"text\"], entity[\"label\"])\n",
    "        if key not in entities_dict:\n",
    "            entities_dict[key] = (1, float(entity[\"score\"]))\n",
    "        else:\n",
    "            count, max_score = entities_dict[key]\n",
    "            entities_dict[key] = (count + 1, max(max_score, entity[\"score\"]))\n",
    "    key_doc = doc['_id']\n",
    "    documents_dict[key_doc] = entities_dict\n",
    "    \n"
   ]
  },
  {
   "cell_type": "code",
   "execution_count": 22,
   "metadata": {},
   "outputs": [],
   "source": [
    "def tuple_to_string(t):\n",
    "    return \", \".join(t)\n",
    "\n",
    "converted_documents_dict = {\n",
    "    str(doc_id): {tuple_to_string(k): v for k, v in entities_dict.items()}\n",
    "    for doc_id, entities_dict in documents_dict.items()\n",
    "}\n",
    "#print(converted_documents_dict)\n",
    "documents_json = json.dumps(converted_documents_dict, indent=4)\n",
    "with open(\"entity_documents.json\", \"w\") as json_file:\n",
    "    json_file.write(documents_json)"
   ]
  },
  {
   "cell_type": "code",
   "execution_count": null,
   "metadata": {},
   "outputs": [
    {
     "name": "stdout",
     "output_type": "stream",
     "text": [
      "intratracheal transplantation => surgical_procedure  | max_score:  0.5052153468132019  | count:  1\n",
      "MSCs => cell_line  | max_score:  0.787893533706665  | count:  8\n",
      "Escherichia (E) coli => bacteria  | max_score:  0.7500589489936829  | count:  1\n",
      "inflammation => biological_process  | max_score:  0.5499964952468872  | count:  1\n",
      "bacterial clearance => biological_process  | max_score:  0.6395661234855652  | count:  2\n",
      "mice => species  | max_score:  0.6265113949775696  | count:  2\n",
      "E. coli => bacteria  | max_score:  0.9057008028030396  | count:  5\n",
      "fibroblasts => cell_line  | max_score:  0.833831787109375  | count:  3\n",
      "toll- like receptors (TLR) => protein  | max_score:  0.5873016715049744  | count:  1\n",
      "TLR- 4 => protein  | max_score:  0.8786500096321106  | count:  5\n",
      "β- defensin 2 => protein  | max_score:  0.5340133905410767  | count:  1\n",
      "BD2 => protein  | max_score:  0.7794433832168579  | count:  5\n",
      "in vitro => environmental_factor  | max_score:  0.710089385509491  | count:  2\n",
      "TLR- 2 => protein  | max_score:  0.8218295574188232  | count:  1\n"
     ]
    }
   ],
   "source": [
    "entities_dict = {}\n",
    "for entity in entities:\n",
    "    if (entity[\"text\"], entity[\"label\"]) not in entities_dict:\n",
    "        entities_dict[(entity[\"text\"], entity[\"label\"])] = (1, float(entity[\"score\"]))\n",
    "    else:\n",
    "        if entities_dict[(entity[\"text\"], entity[\"label\"])][1] < entity[\"score\"]:\n",
    "            entities_dict[(entity[\"text\"], entity[\"label\"])] = (entities_dict[(entity[\"text\"], entity[\"label\"])][0] + 1, entity[\"score\"])\n",
    "        else:\n",
    "            entities_dict[(entity[\"text\"], entity[\"label\"])] = (entities_dict[(entity[\"text\"], entity[\"label\"])][0] + 1, entities_dict[(entity[\"text\"], entity[\"label\"])][1])\n",
    "\n",
    "for key, value in entities_dict.items():\n",
    "    print(key[0], \"=>\", key[1], \" | max_score: \", value[1], \" | count: \", value[0])\n"
   ]
  }
 ],
 "metadata": {
  "kernelspec": {
   "display_name": "medgraph",
   "language": "python",
   "name": "python3"
  },
  "language_info": {
   "codemirror_mode": {
    "name": "ipython",
    "version": 3
   },
   "file_extension": ".py",
   "mimetype": "text/x-python",
   "name": "python",
   "nbconvert_exporter": "python",
   "pygments_lexer": "ipython3",
   "version": "3.11.5"
  }
 },
 "nbformat": 4,
 "nbformat_minor": 2
}
